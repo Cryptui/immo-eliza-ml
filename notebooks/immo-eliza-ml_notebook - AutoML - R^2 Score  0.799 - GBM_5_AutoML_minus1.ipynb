{
 "cells": [
  {
   "cell_type": "markdown",
   "metadata": {},
   "source": [
    "# Immoweb data analysis "
   ]
  },
  {
   "cell_type": "markdown",
   "metadata": {},
   "source": [
    "### Importing libraries"
   ]
  },
  {
   "cell_type": "code",
   "execution_count": 9,
   "metadata": {},
   "outputs": [
    {
     "ename": "NameError",
     "evalue": "name 'h2o_df' is not defined",
     "output_type": "error",
     "traceback": [
      "\u001b[1;31m---------------------------------------------------------------------------\u001b[0m",
      "\u001b[1;31mNameError\u001b[0m                                 Traceback (most recent call last)",
      "Cell \u001b[1;32mIn[9], line 6\u001b[0m\n\u001b[0;32m      3\u001b[0m \u001b[38;5;28;01mfrom\u001b[39;00m \u001b[38;5;21;01mh2o\u001b[39;00m\u001b[38;5;21;01m.\u001b[39;00m\u001b[38;5;21;01mautoml\u001b[39;00m \u001b[38;5;28;01mimport\u001b[39;00m H2OAutoML\n\u001b[0;32m      5\u001b[0m \u001b[38;5;28;01mwith\u001b[39;00m h2o\u001b[38;5;241m.\u001b[39mutils\u001b[38;5;241m.\u001b[39mthreading\u001b[38;5;241m.\u001b[39mlocal_context(polars_enabled\u001b[38;5;241m=\u001b[39m\u001b[38;5;28;01mTrue\u001b[39;00m, datatable_enabled\u001b[38;5;241m=\u001b[39m\u001b[38;5;28;01mTrue\u001b[39;00m):\n\u001b[1;32m----> 6\u001b[0m     pandas_df \u001b[38;5;241m=\u001b[39m \u001b[43mh2o_df\u001b[49m\u001b[38;5;241m.\u001b[39mas_data_frame()\n\u001b[0;32m      8\u001b[0m h2o\u001b[38;5;241m.\u001b[39minit()\n",
      "\u001b[1;31mNameError\u001b[0m: name 'h2o_df' is not defined"
     ]
    }
   ],
   "source": [
    "# Import H2O and Initialize\n",
    "import h2o\n",
    "from h2o.automl import H2OAutoML\n",
    "\n",
    "h2o.init()"
   ]
  },
  {
   "cell_type": "code",
   "execution_count": 2,
   "metadata": {},
   "outputs": [
    {
     "name": "stdout",
     "output_type": "stream",
     "text": [
      "Parse progress: |████████████████████████████████████████████████████████████████| (done) 100%\n",
      "AutoML progress: |█\n",
      "12:16:50.287: AutoML: XGBoost is not available; skipping it.\n",
      "\n",
      "██████████████████████████████████████████████████████████████| (done) 100%\n",
      "model_id                                                rmse          mse       mae       rmsle    mean_residual_deviance\n",
      "GBM_5_AutoML_2_20240319_121650                        231402  5.35469e+10   85861.4  nan                      5.35469e+10\n",
      "GBM_4_AutoML_2_20240319_121650                        231586  5.3632e+10    85380.8  nan                      5.3632e+10\n",
      "GBM_3_AutoML_2_20240319_121650                        232204  5.39187e+10   86905    nan                      5.39187e+10\n",
      "GBM_grid_1_AutoML_2_20240319_121650_model_5           232338  5.39811e+10   84837.1  nan                      5.39811e+10\n",
      "GBM_2_AutoML_2_20240319_121650                        234036  5.47728e+10   89403.7  nan                      5.47728e+10\n",
      "GBM_grid_1_AutoML_2_20240319_121650_model_4           237078  5.62059e+10   85037.5  nan                      5.62059e+10\n",
      "GBM_grid_1_AutoML_2_20240319_121650_model_2           238994  5.71179e+10   87997.3  nan                      5.71179e+10\n",
      "GBM_grid_1_AutoML_2_20240319_121650_model_1           241629  5.83845e+10   91466.7  nan                      5.83845e+10\n",
      "GBM_1_AutoML_2_20240319_121650                        241951  5.85401e+10   88025.5  nan                      5.85401e+10\n",
      "GBM_grid_1_AutoML_2_20240319_121650_model_3           244159  5.96137e+10   85878.8  nan                      5.96137e+10\n",
      "XRT_1_AutoML_2_20240319_121650                        244822  5.99379e+10   93095.5    0.283162               5.99379e+10\n",
      "DRF_1_AutoML_2_20240319_121650                        245881  6.04575e+10   86982.2    0.25988                6.04575e+10\n",
      "DeepLearning_grid_1_AutoML_2_20240319_121650_model_1  308552  9.52044e+10  125555    nan                      9.52044e+10\n",
      "DeepLearning_1_AutoML_2_20240319_121650               315638  9.96271e+10  120111    nan                      9.96271e+10\n",
      "GLM_1_AutoML_2_20240319_121650                        436956  1.9093e+11   210494      0.61589                1.9093e+11\n",
      "[15 rows x 6 columns]\n",
      "\n",
      "gbm prediction progress: |███████████████████████████████████████████████████████| (done) 100%\n",
      "         predict\n",
      "537797\n",
      " 95308.2\n",
      "198457\n",
      "279118\n",
      "347105\n",
      "     1.44344e+06\n",
      "741898\n",
      "304137\n",
      "266878\n",
      "513635\n",
      "[10 rows x 1 column]\n",
      "\n"
     ]
    }
   ],
   "source": [
    "\n",
    "# Load dataset\n",
    "data_path = 'data/data_20240313_modified_minus1.csv'\n",
    "data = h2o.import_file(path=data_path)\n",
    "\n",
    "# Split the data into training and testing sets\n",
    "train, test = data.split_frame(ratios=[.8], seed=42)\n",
    "\n",
    "\n",
    "# Specify Target and Predictor Variables 'price' is the target variable\n",
    "target = 'price'\n",
    "predictors = train.columns\n",
    "predictors.remove(target)\n",
    "\n",
    "# Run AutoML for 20 base models (limited here for simplicity)\n",
    "aml = H2OAutoML(max_models=20, seed=42, max_runtime_secs=600)\n",
    "aml.train(x=predictors, y=target, training_frame=train)\n",
    "\n",
    "\n",
    "# View the AutoML Leaderboard\n",
    "lb = aml.leaderboard\n",
    "print(lb.head(rows=lb.nrows))  # Print all rows instead of default (10 rows)\n",
    "\n",
    "\n",
    "# Make Predictions\n",
    "predictions = aml.leader.predict(test)\n",
    "print(predictions.head())\n",
    "\n",
    "\n",
    "\n"
   ]
  },
  {
   "cell_type": "markdown",
   "metadata": {},
   "source": [
    "### Saving the AutoML Leader Model"
   ]
  },
  {
   "cell_type": "code",
   "execution_count": 3,
   "metadata": {},
   "outputs": [
    {
     "name": "stdout",
     "output_type": "stream",
     "text": [
      "Model saved to: D:\\Github\\Projects\\immo-eliza-ml\\my_model_path\\GBM_5_AutoML_2_20240319_121650\n"
     ]
    }
   ],
   "source": [
    "model_path = h2o.save_model(model=aml.leader, path=\"my_model_path\", force=True)\n",
    "print(f\"Model saved to: {model_path}\")\n"
   ]
  },
  {
   "cell_type": "markdown",
   "metadata": {},
   "source": [
    "### Saving Predictions"
   ]
  },
  {
   "cell_type": "code",
   "execution_count": 4,
   "metadata": {},
   "outputs": [
    {
     "name": "stdout",
     "output_type": "stream",
     "text": [
      "Export File progress: |██████████████████████████████████████████████████████████| (done) 100%\n",
      "Predictions saved to: predictions_GBM_5_AutoML.csv\n"
     ]
    }
   ],
   "source": [
    "predictions_path = \"predictions_GBM_5_AutoML.csv\"\n",
    "h2o.export_file(predictions, path=predictions_path, force=True)\n",
    "print(f\"Predictions saved to: {predictions_path}\")\n"
   ]
  },
  {
   "cell_type": "markdown",
   "metadata": {},
   "source": [
    "### Loading the Model and Making Predictions"
   ]
  },
  {
   "cell_type": "code",
   "execution_count": 5,
   "metadata": {},
   "outputs": [
    {
     "name": "stdout",
     "output_type": "stream",
     "text": [
      "gbm prediction progress: |███████████████████████████████████████████████████████| (done) 100%\n",
      "         predict\n",
      "537797\n",
      " 95308.2\n",
      "198457\n",
      "279118\n",
      "347105\n",
      "     1.44344e+06\n",
      "741898\n",
      "304137\n",
      "266878\n",
      "513635\n",
      "[10 rows x 1 column]\n",
      "\n"
     ]
    }
   ],
   "source": [
    "loaded_model = h2o.load_model(path=model_path)\n",
    "\n",
    "# Assuming you have a dataset to predict\n",
    "predictions = loaded_model.predict(test)\n",
    "print(predictions.head())\n"
   ]
  },
  {
   "cell_type": "markdown",
   "metadata": {},
   "source": [
    "### Retrieve the Model"
   ]
  },
  {
   "cell_type": "code",
   "execution_count": 7,
   "metadata": {},
   "outputs": [
    {
     "name": "stdout",
     "output_type": "stream",
     "text": [
      "         predict\n",
      "0  537797.461761\n",
      "1   95308.191711\n",
      "2  198456.974266\n",
      "3  279118.275848\n",
      "4  347104.769530\n"
     ]
    }
   ],
   "source": [
    "import pandas as pd\n",
    "predictions_df = pd.read_csv(\"predictions_GBM_5_AutoML.csv\")\n",
    "\n",
    "# Examine the first few rows\n",
    "print(predictions_df.head())"
   ]
  },
  {
   "cell_type": "markdown",
   "metadata": {},
   "source": [
    "### Calculate Evaluation Metrics"
   ]
  },
  {
   "cell_type": "code",
   "execution_count": 11,
   "metadata": {},
   "outputs": [
    {
     "name": "stderr",
     "output_type": "stream",
     "text": [
      "d:\\Github\\Projects\\immo-eliza-ml\\venv\\Lib\\site-packages\\h2o\\frame.py:1983: H2ODependencyWarning: Converting H2O frame to pandas dataframe using single-thread.  For faster conversion using multi-thread, install datatable (for Python 3.9 or lower), or polars and pyarrow (for Python 3.10 or above) and activate it using:\n",
      "\n",
      "with h2o.utils.threading.local_context(polars_enabled=True, datatable_enabled=True):\n",
      "    pandas_df = h2o_df.as_data_frame()\n",
      "\n",
      "  warnings.warn(\"Converting H2O frame to pandas dataframe using single-thread.  For faster conversion using\"\n"
     ]
    },
    {
     "name": "stdout",
     "output_type": "stream",
     "text": [
      "Mean Squared Error (MSE): 39594959733.56407\n",
      "Root Mean Squared Error (RMSE): 198984.82287240922\n",
      "Mean Absolute Error (MAE): 81754.61126182029\n",
      "R-squared (R2): 0.7991135054993821\n"
     ]
    },
    {
     "name": "stderr",
     "output_type": "stream",
     "text": [
      "d:\\Github\\Projects\\immo-eliza-ml\\venv\\Lib\\site-packages\\sklearn\\metrics\\_regression.py:483: FutureWarning: 'squared' is deprecated in version 1.4 and will be removed in 1.6. To calculate the root mean squared error, use the function'root_mean_squared_error'.\n",
      "  warnings.warn(\n"
     ]
    }
   ],
   "source": [
    "import h2o\n",
    "from h2o.frame import H2OFrame\n",
    "import pandas as pd\n",
    "from sklearn.metrics import mean_squared_error, r2_score, mean_absolute_error\n",
    "\n",
    "actuals = test[target].as_data_frame().values.flatten()  \n",
    "\n",
    "\n",
    "mse = mean_squared_error(actuals, predictions_df['predict'])\n",
    "rmse = mean_squared_error(actuals, predictions_df['predict'], squared=False)\n",
    "mae = mean_absolute_error(actuals, predictions_df['predict'])\n",
    "r2 = r2_score(actuals, predictions_df['predict'])\n",
    "\n",
    "# Print the metrics\n",
    "print(f'Mean Squared Error (MSE): {mse}')\n",
    "print(f'Root Mean Squared Error (RMSE): {rmse}')\n",
    "print(f'Mean Absolute Error (MAE): {mae}')\n",
    "print(f'R-squared (R2): {r2}')\n"
   ]
  }
 ],
 "metadata": {
  "kernelspec": {
   "display_name": "Python 3",
   "language": "python",
   "name": "python3"
  },
  "language_info": {
   "codemirror_mode": {
    "name": "ipython",
    "version": 3
   },
   "file_extension": ".py",
   "mimetype": "text/x-python",
   "name": "python",
   "nbconvert_exporter": "python",
   "pygments_lexer": "ipython3",
   "version": "3.12.1"
  }
 },
 "nbformat": 4,
 "nbformat_minor": 2
}
