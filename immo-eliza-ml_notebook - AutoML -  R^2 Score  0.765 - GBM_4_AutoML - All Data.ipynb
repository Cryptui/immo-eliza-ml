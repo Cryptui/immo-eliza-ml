{
 "cells": [
  {
   "cell_type": "markdown",
   "metadata": {},
   "source": [
    "# Immoweb data analysis "
   ]
  },
  {
   "cell_type": "markdown",
   "metadata": {},
   "source": [
    "### Importing libraries"
   ]
  },
  {
   "cell_type": "code",
   "execution_count": 2,
   "metadata": {},
   "outputs": [
    {
     "name": "stdout",
     "output_type": "stream",
     "text": [
      "Checking whether there is an H2O instance running at http://localhost:54321..... not found.\n",
      "Attempting to start a local H2O server...\n",
      "; Java HotSpot(TM) 64-Bit Server VM (build 21.0.2+13-LTS-58, mixed mode, sharing)\n",
      "  Starting server from D:\\Github\\Projects\\immo-eliza-ml\\venv\\Lib\\site-packages\\h2o\\backend\\bin\\h2o.jar\n",
      "  Ice root: C:\\Users\\daryc\\AppData\\Local\\Temp\\tmpg1h8lee9\n",
      "  JVM stdout: C:\\Users\\daryc\\AppData\\Local\\Temp\\tmpg1h8lee9\\h2o_daryc_started_from_python.out\n",
      "  JVM stderr: C:\\Users\\daryc\\AppData\\Local\\Temp\\tmpg1h8lee9\\h2o_daryc_started_from_python.err\n",
      "  Server is running at http://127.0.0.1:54321\n",
      "Connecting to H2O server at http://127.0.0.1:54321 ... successful.\n"
     ]
    },
    {
     "data": {
      "text/html": [
       "\n",
       "<style>\n",
       "\n",
       "#h2o-table-1.h2o-container {\n",
       "  overflow-x: auto;\n",
       "}\n",
       "#h2o-table-1 .h2o-table {\n",
       "  /* width: 100%; */\n",
       "  margin-top: 1em;\n",
       "  margin-bottom: 1em;\n",
       "}\n",
       "#h2o-table-1 .h2o-table caption {\n",
       "  white-space: nowrap;\n",
       "  caption-side: top;\n",
       "  text-align: left;\n",
       "  /* margin-left: 1em; */\n",
       "  margin: 0;\n",
       "  font-size: larger;\n",
       "}\n",
       "#h2o-table-1 .h2o-table thead {\n",
       "  white-space: nowrap; \n",
       "  position: sticky;\n",
       "  top: 0;\n",
       "  box-shadow: 0 -1px inset;\n",
       "}\n",
       "#h2o-table-1 .h2o-table tbody {\n",
       "  overflow: auto;\n",
       "}\n",
       "#h2o-table-1 .h2o-table th,\n",
       "#h2o-table-1 .h2o-table td {\n",
       "  text-align: right;\n",
       "  /* border: 1px solid; */\n",
       "}\n",
       "#h2o-table-1 .h2o-table tr:nth-child(even) {\n",
       "  /* background: #F5F5F5 */\n",
       "}\n",
       "\n",
       "</style>      \n",
       "<div id=\"h2o-table-1\" class=\"h2o-container\">\n",
       "  <table class=\"h2o-table\">\n",
       "    <caption></caption>\n",
       "    <thead></thead>\n",
       "    <tbody><tr><td>H2O_cluster_uptime:</td>\n",
       "<td>01 secs</td></tr>\n",
       "<tr><td>H2O_cluster_timezone:</td>\n",
       "<td>Europe/Brussels</td></tr>\n",
       "<tr><td>H2O_data_parsing_timezone:</td>\n",
       "<td>UTC</td></tr>\n",
       "<tr><td>H2O_cluster_version:</td>\n",
       "<td>3.46.0.1</td></tr>\n",
       "<tr><td>H2O_cluster_version_age:</td>\n",
       "<td>5 days</td></tr>\n",
       "<tr><td>H2O_cluster_name:</td>\n",
       "<td>H2O_from_python_daryc_abpxkb</td></tr>\n",
       "<tr><td>H2O_cluster_total_nodes:</td>\n",
       "<td>1</td></tr>\n",
       "<tr><td>H2O_cluster_free_memory:</td>\n",
       "<td>3.912 Gb</td></tr>\n",
       "<tr><td>H2O_cluster_total_cores:</td>\n",
       "<td>0</td></tr>\n",
       "<tr><td>H2O_cluster_allowed_cores:</td>\n",
       "<td>0</td></tr>\n",
       "<tr><td>H2O_cluster_status:</td>\n",
       "<td>locked, healthy</td></tr>\n",
       "<tr><td>H2O_connection_url:</td>\n",
       "<td>http://127.0.0.1:54321</td></tr>\n",
       "<tr><td>H2O_connection_proxy:</td>\n",
       "<td>{\"http\": null, \"https\": null}</td></tr>\n",
       "<tr><td>H2O_internal_security:</td>\n",
       "<td>False</td></tr>\n",
       "<tr><td>Python_version:</td>\n",
       "<td>3.12.1 final</td></tr></tbody>\n",
       "  </table>\n",
       "</div>\n"
      ],
      "text/plain": [
       "--------------------------  -----------------------------\n",
       "H2O_cluster_uptime:         01 secs\n",
       "H2O_cluster_timezone:       Europe/Brussels\n",
       "H2O_data_parsing_timezone:  UTC\n",
       "H2O_cluster_version:        3.46.0.1\n",
       "H2O_cluster_version_age:    5 days\n",
       "H2O_cluster_name:           H2O_from_python_daryc_abpxkb\n",
       "H2O_cluster_total_nodes:    1\n",
       "H2O_cluster_free_memory:    3.912 Gb\n",
       "H2O_cluster_total_cores:    0\n",
       "H2O_cluster_allowed_cores:  0\n",
       "H2O_cluster_status:         locked, healthy\n",
       "H2O_connection_url:         http://127.0.0.1:54321\n",
       "H2O_connection_proxy:       {\"http\": null, \"https\": null}\n",
       "H2O_internal_security:      False\n",
       "Python_version:             3.12.1 final\n",
       "--------------------------  -----------------------------"
      ]
     },
     "metadata": {},
     "output_type": "display_data"
    }
   ],
   "source": [
    "# Import H2O and Initialize\n",
    "import h2o\n",
    "from h2o.automl import H2OAutoML\n",
    "\n",
    "h2o.init()"
   ]
  },
  {
   "cell_type": "code",
   "execution_count": 4,
   "metadata": {},
   "outputs": [
    {
     "name": "stdout",
     "output_type": "stream",
     "text": [
      "Parse progress: |████████████████████████████████████████████████████████████████| (done) 100%\n",
      "AutoML progress: |\n",
      "11:36:32.557: AutoML: XGBoost is not available; skipping it.\n",
      "11:36:32.592: _train param, Dropping bad and constant columns: [fl_terrace, fl_floodzone, fl_double_glazing]\n",
      "\n",
      "████████████████████████\n",
      "11:40:09.305: XRT_1_AutoML_1_20240319_113632 [DRF XRT (Extremely Randomized Trees)] failed: java.lang.AssertionError\n",
      "\n",
      "█\n",
      "11:40:22.59: _train param, Dropping bad and constant columns: [fl_terrace, fl_floodzone, fl_double_glazing]\n",
      "\n",
      "██████████████████████████████████████| (done) 100%\n",
      "model_id                                       rmse          mse       mae       rmsle    mean_residual_deviance\n",
      "GBM_4_AutoML_1_20240319_113632               227555  5.17814e+10   84527.7  nan                      5.17814e+10\n",
      "GBM_5_AutoML_1_20240319_113632               227786  5.18866e+10   85292.9  nan                      5.18866e+10\n",
      "GBM_grid_1_AutoML_1_20240319_113632_model_5  229930  5.28679e+10   83714.5  nan                      5.28679e+10\n",
      "GBM_3_AutoML_1_20240319_113632               230657  5.32029e+10   86628.9  nan                      5.32029e+10\n",
      "GBM_grid_1_AutoML_1_20240319_113632_model_4  233170  5.43684e+10   83540.1    0.253325               5.43684e+10\n",
      "GBM_grid_1_AutoML_1_20240319_113632_model_2  235177  5.53081e+10   86397.2  nan                      5.53081e+10\n",
      "GBM_2_AutoML_1_20240319_113632               235463  5.54428e+10   89459.5  nan                      5.54428e+10\n",
      "GBM_grid_1_AutoML_1_20240319_113632_model_1  236016  5.57034e+10   90243    nan                      5.57034e+10\n",
      "DRF_1_AutoML_1_20240319_113632               239049  5.71447e+10   85432.5    0.258359               5.71447e+10\n",
      "GBM_grid_1_AutoML_1_20240319_113632_model_3  239523  5.73715e+10   84667.4  nan                      5.73715e+10\n",
      "GBM_1_AutoML_1_20240319_113632               241740  5.84381e+10   88394.1  nan                      5.84381e+10\n",
      "DeepLearning_1_AutoML_1_20240319_113632      289885  8.40332e+10  117421    nan                      8.40332e+10\n",
      "GLM_1_AutoML_1_20240319_113632               436956  1.9093e+11   210494      0.61589                1.9093e+11\n",
      "[13 rows x 6 columns]\n",
      "\n",
      "gbm prediction progress: |███████████████████████████████████████████████████████| (done) 100%\n",
      "         predict\n",
      "477247\n",
      "131970\n",
      "184354\n",
      "280531\n",
      "349789\n",
      "     1.50248e+06\n",
      "936761\n",
      "311070\n",
      "282211\n",
      "519634\n",
      "[10 rows x 1 column]\n",
      "\n"
     ]
    }
   ],
   "source": [
    "\n",
    "# Load dataset\n",
    "data_path = 'data/data_20240313_cleaned.csv'\n",
    "data = h2o.import_file(path=data_path)\n",
    "\n",
    "# Split the data into training and testing sets\n",
    "train, test = data.split_frame(ratios=[.8], seed=42)\n",
    "\n",
    "\n",
    "# Specify Target and Predictor Variables 'price' is the target variable\n",
    "target = 'price'\n",
    "predictors = train.columns\n",
    "predictors.remove(target)\n",
    "\n",
    "# Run AutoML for 20 base models (limited here for simplicity)\n",
    "aml = H2OAutoML(max_models=20, seed=42, max_runtime_secs=600)\n",
    "aml.train(x=predictors, y=target, training_frame=train)\n",
    "\n",
    "\n",
    "# View the AutoML Leaderboard\n",
    "lb = aml.leaderboard\n",
    "print(lb.head(rows=lb.nrows))  # Print all rows instead of default (10 rows)\n",
    "\n",
    "\n",
    "# Make Predictions\n",
    "predictions = aml.leader.predict(test)\n",
    "print(predictions.head())\n",
    "\n",
    "\n",
    "\n"
   ]
  },
  {
   "cell_type": "markdown",
   "metadata": {},
   "source": [
    "### Saving the AutoML Leader Model"
   ]
  },
  {
   "cell_type": "code",
   "execution_count": 5,
   "metadata": {},
   "outputs": [
    {
     "name": "stdout",
     "output_type": "stream",
     "text": [
      "Model saved to: D:\\Github\\Projects\\immo-eliza-ml\\my_model_path\\GBM_4_AutoML_1_20240319_113632\n"
     ]
    }
   ],
   "source": [
    "model_path = h2o.save_model(model=aml.leader, path=\"my_model_path\", force=True)\n",
    "print(f\"Model saved to: {model_path}\")\n"
   ]
  },
  {
   "cell_type": "markdown",
   "metadata": {},
   "source": [
    "### Saving Predictions"
   ]
  },
  {
   "cell_type": "code",
   "execution_count": 6,
   "metadata": {},
   "outputs": [
    {
     "name": "stdout",
     "output_type": "stream",
     "text": [
      "Export File progress: |██████████████████████████████████████████████████████████| (done) 100%\n",
      "Predictions saved to: predictions_GBM_4_AutoML.csv\n"
     ]
    }
   ],
   "source": [
    "predictions_path = \"predictions_GBM_4_AutoML.csv\"\n",
    "h2o.export_file(predictions, path=predictions_path, force=True)\n",
    "print(f\"Predictions saved to: {predictions_path}\")\n"
   ]
  },
  {
   "cell_type": "markdown",
   "metadata": {},
   "source": [
    "### Loading the Model and Making Predictions"
   ]
  },
  {
   "cell_type": "code",
   "execution_count": 18,
   "metadata": {},
   "outputs": [
    {
     "name": "stdout",
     "output_type": "stream",
     "text": [
      "gbm prediction progress: |"
     ]
    },
    {
     "name": "stdout",
     "output_type": "stream",
     "text": [
      "███████████████████████████████████████████████████████| (done) 100%\n",
      "         predict\n",
      "477247\n",
      "131970\n",
      "184354\n",
      "280531\n",
      "349789\n",
      "     1.50248e+06\n",
      "936761\n",
      "311070\n",
      "282211\n",
      "519634\n",
      "[10 rows x 1 column]\n",
      "\n"
     ]
    }
   ],
   "source": [
    "loaded_model = h2o.load_model(path=model_path)\n",
    "\n",
    "# Assuming you have a dataset to predict\n",
    "predictions = loaded_model.predict(test)\n",
    "print(predictions.head())\n"
   ]
  },
  {
   "cell_type": "markdown",
   "metadata": {},
   "source": [
    "### Retrieve the Model"
   ]
  },
  {
   "cell_type": "code",
   "execution_count": 19,
   "metadata": {},
   "outputs": [
    {
     "name": "stdout",
     "output_type": "stream",
     "text": [
      "         predict\n",
      "0  477246.864807\n",
      "1  131970.079458\n",
      "2  184353.697954\n",
      "3  280531.422635\n",
      "4  349789.256601\n"
     ]
    }
   ],
   "source": [
    "import pandas as pd\n",
    "predictions_df = pd.read_csv(\"predictions_GBM_4_AutoML.csv\")\n",
    "\n",
    "# Examine the first few rows\n",
    "print(predictions_df.head())"
   ]
  },
  {
   "cell_type": "markdown",
   "metadata": {},
   "source": [
    "### Calculate Evaluation Metrics"
   ]
  },
  {
   "cell_type": "code",
   "execution_count": 22,
   "metadata": {},
   "outputs": [
    {
     "name": "stdout",
     "output_type": "stream",
     "text": [
      "Mean Squared Error (MSE): 46211391769.93783\n",
      "Root Mean Squared Error (RMSE): 214968.3506238484\n",
      "Mean Absolute Error (MAE): 81025.29719639733\n",
      "R-squared (R2): 0.7655447925411516\n"
     ]
    },
    {
     "name": "stderr",
     "output_type": "stream",
     "text": [
      "d:\\Github\\Projects\\immo-eliza-ml\\venv\\Lib\\site-packages\\h2o\\frame.py:1983: H2ODependencyWarning: Converting H2O frame to pandas dataframe using single-thread.  For faster conversion using multi-thread, install datatable (for Python 3.9 or lower), or polars and pyarrow (for Python 3.10 or above) and activate it using:\n",
      "\n",
      "with h2o.utils.threading.local_context(polars_enabled=True, datatable_enabled=True):\n",
      "    pandas_df = h2o_df.as_data_frame()\n",
      "\n",
      "  warnings.warn(\"Converting H2O frame to pandas dataframe using single-thread.  For faster conversion using\"\n",
      "d:\\Github\\Projects\\immo-eliza-ml\\venv\\Lib\\site-packages\\sklearn\\metrics\\_regression.py:483: FutureWarning: 'squared' is deprecated in version 1.4 and will be removed in 1.6. To calculate the root mean squared error, use the function'root_mean_squared_error'.\n",
      "  warnings.warn(\n"
     ]
    }
   ],
   "source": [
    "from sklearn.metrics import mean_squared_error, r2_score, mean_absolute_error\n",
    "\n",
    "actuals = test[target].as_data_frame().values.flatten()  \n",
    "\n",
    "\n",
    "mse = mean_squared_error(actuals, predictions_df['predict'])\n",
    "rmse = mean_squared_error(actuals, predictions_df['predict'], squared=False)\n",
    "mae = mean_absolute_error(actuals, predictions_df['predict'])\n",
    "r2 = r2_score(actuals, predictions_df['predict'])\n",
    "\n",
    "# Print the metrics\n",
    "print(f'Mean Squared Error (MSE): {mse}')\n",
    "print(f'Root Mean Squared Error (RMSE): {rmse}')\n",
    "print(f'Mean Absolute Error (MAE): {mae}')\n",
    "print(f'R-squared (R2): {r2}')\n"
   ]
  }
 ],
 "metadata": {
  "kernelspec": {
   "display_name": "Python 3",
   "language": "python",
   "name": "python3"
  },
  "language_info": {
   "codemirror_mode": {
    "name": "ipython",
    "version": 3
   },
   "file_extension": ".py",
   "mimetype": "text/x-python",
   "name": "python",
   "nbconvert_exporter": "python",
   "pygments_lexer": "ipython3",
   "version": "3.12.1"
  }
 },
 "nbformat": 4,
 "nbformat_minor": 2
}
